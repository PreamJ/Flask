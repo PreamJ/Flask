{
  "nbformat": 4,
  "nbformat_minor": 0,
  "metadata": {
    "colab": {
      "provenance": [],
      "authorship_tag": "ABX9TyP/F7Ags17F+01+SISmXx10",
      "include_colab_link": true
    },
    "kernelspec": {
      "name": "python3",
      "display_name": "Python 3"
    },
    "language_info": {
      "name": "python"
    }
  },
  "cells": [
    {
      "cell_type": "markdown",
      "metadata": {
        "id": "view-in-github",
        "colab_type": "text"
      },
      "source": [
        "<a href=\"https://colab.research.google.com/github/PreamJ/Flask/blob/main/python_practice.ipynb\" target=\"_parent\"><img src=\"https://colab.research.google.com/assets/colab-badge.svg\" alt=\"Open In Colab\"/></a>"
      ]
    },
    {
      "cell_type": "markdown",
      "source": [
        "# Q1 Leap day\n",
        "\n",
        "ในทุกๆ 4 ปี leap day หรือวันที่ 29 กุมภาพันธ์ จะถูกเพิ่มเข้ามาในปฏิธิน เนื่องจากโลกโคจรรอบดวงอาทิตย์เป็นเวลาประมาณ 365.25 วัน เราเรียกปีที่มี leap day ว่า leap year <br>\n",
        "\n",
        "\n",
        "ใน Gregorian calendar ระบุไว้ว่า leap year จะต้องประกอบไปด้วย 3 เงื่อนไข ได้แก่\n",
        "*   เป็นปีที่สามารถหารด้วย 4 ลงตัว\n",
        "*   แต่ปีที่หาร 100 ลงตัว จะไม่นับเป็น leap year\n",
        "*    ปีที่หารด้วย 400 ลงตัว จะนับเป็น leap year\n",
        "\n",
        "นั่นหมายความว่า ปีที่เป็น leap year จะสามารถหารด้วย 4 ลงตัว แต่ไม่สามารถหารด้วย 100 ได้ ยกเว้นกรณีที่หารด้วย 400 ได้ด้วย<br>\n",
        "\n",
        "**งานของคุณคือ :**<br>\n",
        "ถ้าปีที่กำหนดเป็น leap year ให้ return boolean True แต่ถ้าไม่ใช่ ให้ return False <br>\n",
        "**Note:** ให้เขียนฟังก์ชั่น leap_year เพื่อแก้ปัญหานี้\n",
        "\n",
        "**Input Format:**<br>\n",
        "Read year (integer)<br>\n",
        "\n",
        "**Output Format:**<br>\n",
        "Boolean value"
      ],
      "metadata": {
        "id": "qO4exETzWuc-"
      }
    },
    {
      "cell_type": "code",
      "execution_count": null,
      "metadata": {
        "id": "JcIsTDLDWrAn"
      },
      "outputs": [],
      "source": []
    },
    {
      "cell_type": "markdown",
      "source": [
        "# Q2 List + Iteration\n",
        "จงเขียนโปรแกรมรับเลขจำนวนเต็ม แล้วแสดงผลดังต่อไปนี้<br>\n",
        "Input:\n",
        "\n",
        "\n",
        "```\n",
        "5\n",
        "```\n",
        "\n",
        "Output:\n",
        "\n",
        "```\n",
        "1     *\n",
        "2    ***\n",
        "3   *****\n",
        "4  *******\n",
        "5 *********\n",
        "```\n",
        "\n"
      ],
      "metadata": {
        "id": "QzVozmJHvPQO"
      }
    },
    {
      "cell_type": "code",
      "source": [],
      "metadata": {
        "id": "gHnp2NoEvQZA"
      },
      "execution_count": null,
      "outputs": []
    },
    {
      "cell_type": "markdown",
      "source": [
        "# Q3 Strings\n",
        "**กำหนดให้**\n",
        "*   string s มีความยาว n <br>\n",
        "*   integer k สามารถหาร n ลงตัว <br>\n",
        "**งานของคุณคือ:**<br>\n",
        "แบ่ง s เป็นกลุ่ม (substring) กลุ่มละ k ตัว จำนวน n/k กลุ่ม จากนั้นให้ปริ้นตัวอักษรที่ไม่ซ้ำกันในแต่ละกลุ่ม จำนวน n/k บรรทัด<br>\n",
        "\n",
        "\n",
        "**Input Format:**<br>\n",
        "บรรทัดที่ 1: string s\n",
        "บรรทัดที่ 2: จำนวนเต็ม k แสดงถึงความยาวของ substring<br>\n",
        "\n",
        "**Output Format:**\n",
        "String จำนวน n/k บรรทัด<br>\n",
        "\n",
        "**ตัวอย่าง:**<br>\n",
        "**Input**\n",
        "```\n",
        "AABCAAADAQWE\n",
        "3\n",
        "```\n",
        "**Output**\n",
        "\n",
        "```\n",
        "AB\n",
        "CA\n",
        "AD\n",
        "QWE\n",
        "```"
      ],
      "metadata": {
        "id": "heg6-xwCUjEx"
      }
    },
    {
      "cell_type": "code",
      "source": [],
      "metadata": {
        "id": "XGG3F6bkUjRP"
      },
      "execution_count": null,
      "outputs": []
    },
    {
      "cell_type": "markdown",
      "source": [
        "# Q4 String Apply\n",
        "a และ b ได้เล่นเกมเกมหนึ่ง มีกติกาดังนี้ <br>\n",
        "1. ผู้เล่นทั้งสองคนจะได้รับ string s จากนั้นผู้เล่นจะต้องสร้าง substring โดยใช้ s\n",
        "2. ผู้เล่น a จะสร้างคำที่เริ่มต้นด้วยพยัญชนะในภาษาอังกฤษ\n",
        "3. ผู้เล่น b จะสร้างคำที่เริ่มต้นด้วยสระในภาษาอังกฤษ\n",
        "4. ผู้เล่นจะได้รับคำแนน 1 คะแนนสำหรับการสร้าง substring ที่ตรงกับเงื่อนไขตนเอง\n",
        "\n",
        "ตัวอย่างเช่น\n",
        "string s = BABANA<br>\n",
        "a สร้าง substring ที่ขึ้นต้นด้วยสระ word = ANA<br>\n",
        "จะพบว่า ANA ปรากฎ 2 ครั้งใน BABANA จึงได้รับ 2 คะแนน<br>\n",
        "\n",
        "งานของคุณคือ:<br>\n",
        "เขียน function ที่บอกว่าใครจะเป็นผู้ชนะในการเล่นเกมครั้งนี้ โดยผู้เล่นทั้งสองได้รับคะแนนสูงสุดที่สามารถเป็นไปได้ และได้คะแนนเท่าใด<br>\n",
        "\n",
        "Input Format:<br>\n",
        "บรรทัดที่ 1: string s เป็นคำที่กำหนดสำหรับการเล่นเกม<br>\n",
        "Output Format:<br>\n",
        "ผู้ชนะ และคะแนน คั่นด้วย space หรือถ้าได้คะแนนเท่ากันให้ output \"Draw\"\n",
        "ตัวอย่าง<br>\n",
        "Input\n",
        "\n",
        "```\n",
        "BANANA\n",
        "```\n",
        "Output\n",
        "\n",
        "```\n",
        "a 12\n",
        "```\n",
        "\n"
      ],
      "metadata": {
        "id": "K1brNA0tdy6T"
      }
    },
    {
      "cell_type": "code",
      "source": [],
      "metadata": {
        "id": "NOisZmQTLQnb"
      },
      "execution_count": null,
      "outputs": []
    },
    {
      "cell_type": "markdown",
      "source": [
        "# Q5 Nested List\n",
        "สมมติว่าคุณเป็นคุณครู ณ โรงเรียนแห่งหนึ่ง คุณมีชื่อและเกรดของนักเรียนในห้อง จำนวน N คน โดยข้อมูลเก็บอยู่ในรูปแบบ nested list<br>\n",
        "\n",
        "งานของคุณคือ:<br>\n",
        "หานักเรียนที่ได้เกรดอันดับก่อนสุดท้าย<br>\n",
        "Note: มีโอกาสที่จะมีนักเรียนหลายคนได้เกรดอันดับก่อนสุดท้าย ให้ print ขื่อของนักเรียนเหล่านั้นโดยเว้น 1 บรรทัดระหว่างคน<br>\n",
        "\n",
        "Input Format:<br>\n",
        "บรรทัดที่ 1: จำนวนเต็ม N แสดงจำนวนของนักเรียน<br>\n",
        "บรรทัดที่ 2N: ชื่อของนักเรียน<br>\n",
        "บรรทัดที่ 2N+1: เกรดของนักเรียน<br>\n",
        "\n",
        "Output Format:<br>\n",
        "print ชื่อของนักเรียน (อาจเป็นคนเดียวหรือหลายคน) ถ้ามีนักเรียนจำนวนหลายคน ให้เรียงลำดับนักเรียนตามลำดับตัวอักษร และเว้นบรรทัดระหว่างแต่ละคน<br>\n",
        "\n",
        "ตัวอย่าง<br>\n",
        "Input<br>\n",
        "\n",
        "```\n",
        "5\n",
        "Harry\n",
        "37.21\n",
        "Berry\n",
        "37.21\n",
        "Tina\n",
        "37.2\n",
        "Akriti\n",
        "41\n",
        "Harsh\n",
        "39\n",
        "```\n",
        "output<br>\n",
        "\n",
        "```\n",
        "Berry\n",
        "Harry\n",
        "```\n",
        "คำอธิบาย: <br>\n",
        "จากตัวอย่าง ในห้องเรียนมีนักเรียน 5 คน โดยชื่อ และเกรดของนักเรียนสามารถเขียนได้เป็น\n",
        "\n",
        "```\n",
        "[['Harry', 37.21], ['Berry', 37.21], ['Tina', 37.2], ['Akriti', 41], ['Harsh', 39]]\n",
        "```\n",
        "\n",
        "เกรดที่ต่ำที่สุดคือ Tina ได้เกรด 37.2 และอันดับรองสุดท้ายได้เกรด 37.21 นักเรียนที่ได้เกรดนี้ได้แก่ Berry และ Harry"
      ],
      "metadata": {
        "id": "BrSFpuaadw_M"
      }
    },
    {
      "cell_type": "code",
      "source": [],
      "metadata": {
        "id": "vnk_kFnjvUYj"
      },
      "execution_count": null,
      "outputs": []
    },
    {
      "cell_type": "markdown",
      "source": [
        "# Q6 Sort algorithm\n",
        "เขียน function สำหรับการ sort ข้อมูลใน list โดยไม่ใช้ package sort สำเร็จรูป"
      ],
      "metadata": {
        "id": "-uAbsQBo_rvC"
      }
    },
    {
      "cell_type": "code",
      "source": [
        "unsorted_list = [3,23,3,9,29,6,7,19,4,1,52]\n"
      ],
      "metadata": {
        "id": "GoDdpyuUh_Vt"
      },
      "execution_count": null,
      "outputs": []
    },
    {
      "cell_type": "markdown",
      "source": [
        "[What is selection sort?](https://www.youtube.com/watch?v=xWBP4lzkoyM)"
      ],
      "metadata": {
        "id": "3hBDm-eoy0yJ"
      }
    },
    {
      "cell_type": "code",
      "source": [
        "unsorted_list = [3,23,3,9,29,6,7,19,4,1,52]\n"
      ],
      "metadata": {
        "id": "-p4gtPsUy9bH"
      },
      "execution_count": null,
      "outputs": []
    },
    {
      "cell_type": "markdown",
      "source": [
        "[What is bubble sort?](https://www.youtube.com/watch?v=9I2oOAr2okY)"
      ],
      "metadata": {
        "id": "gsyU6iSUy3gb"
      }
    },
    {
      "cell_type": "code",
      "source": [
        "unsorted_list = [3,23,3,9,29,6,7,19,4,1,52]\n"
      ],
      "metadata": {
        "id": "26Yx_zKFy-U2"
      },
      "execution_count": null,
      "outputs": []
    },
    {
      "cell_type": "markdown",
      "source": [
        "# Q7 Apply 1 Guide's room\n",
        "โรงแรมแห่งหนึ่ง มีห้องจำนวนอินฟินิตี้ห้อง วันหนึ่งมีนักท่องเที่ยวมาเข้าพัก โดยมีรายละเอียดดังนี้ <br>\n",
        "กลุ่มนักท่องเที่ยวประกอบด้วย<br>\n",
        "- ไกด์ จำนวน 1 คน\n",
        "- นักท่องเที่ยวจำนวน k คน<br>\n",
        "\n",
        "ไกด์จะได้รับห้องพักเดี่ยว และนักท่องเที่ยวจะนอนห้องละ n คน <br>\n",
        "นักท่องเที่ยวและไกด์จะได้รับหมายเลขห้องของตัวเอง โดยไม่เรียงลำดับ เช่น นักท่องเที่ยวและไกด์จำนวน 31 คน ได้ลำดับห้องตามนี้\n",
        "\n",
        "\n",
        "```\n",
        "1 2 3 6 5 4 4 2 5 3 6 1 6 5 3 2 4 1 2 5 1 4 3 6 8 4 3 1 5 6 2\n",
        "```\n",
        "จงหาว่า ไกด์พักอยู่ห้องหมายเลขเท่าใด <br>\n",
        "Input Format:<br>\n",
        "บรรทัดที่ 1: จำนวนเต็ม n แสดงถึงจำนวนของนักท่องเที่ยวในหนึ่งกลุ่ม<br>\n",
        "บรรทัดที่ 2: เลขห้องของผู้เข้าพัก (นักท่องเที่ยวและไกด์) โดยไม่เรียงลำดับ<br>\n",
        "\n",
        "Output Format:<br>\n",
        "เลขห้องที่ไกด์พัก\n",
        "\n",
        "ตัวอย่าง\n",
        "Input:\n",
        "\n",
        "\n",
        "```\n",
        "5\n",
        "1 2 3 6 5 4 4 2 5 3 6 1 6 5 3 2 4 1 2 5 1 4 3 6 8 4 3 1 5 6 2\n",
        "```\n",
        "\n",
        "\n",
        "Output:\n",
        "\n",
        "\n",
        "```\n",
        "8\n",
        "```\n",
        "คำอธิบาย:<br>\n",
        "จากตัวอย่างข้างต้น มีจำนวนผู้เข้าพัก 31 คน โดยแต่ละห้องมีนักท่องเที่ยวพัก k = 5 คน จำนวน 6 กลุ่ม แต่ละคนถูก assign เลขห้องให้ตาม list ข้างต้น จะพบว่าแต่ละห้องจะมีผู้เข้าพัก 5 คน ยกเว้นห้องพักหมายเลข 8 ที่มีเพียงคนเดียวได้รับหมายเลขนี้ นั่นหมายความว่า ไกด์พักอยู่ห้องหมายเลข 8 นี้\n",
        "\n",
        "\n"
      ],
      "metadata": {
        "id": "2FfD5rz7gQKz"
      }
    },
    {
      "cell_type": "code",
      "source": [],
      "metadata": {
        "id": "GXhwgB6ngSLg"
      },
      "execution_count": null,
      "outputs": []
    },
    {
      "cell_type": "markdown",
      "source": [
        "# Q8 Apply 2 Knapsack Problem\n",
        "สมมติว่ามีกระเป๋าใบหนึ่ง และต้องการนำสิ่งของใส่กระเป๋าโดยให้ผลรวมราคามีมูลค่าสูงที่สุด โดยมีน้ำหนักไม่เกินที่กระเป๋าจะรับน้ำหนักได้ <br>\n",
        "\n",
        "กำหนดให้ สิ่งของแต่ละชิ้นมีน้ำหนักและราคาอยู่<br>\n",
        "\n",
        "**ตัวอย่าง**<br>\n",
        "กระเป๋าสามารถรับน้ำหนักได้ 10 หน่วย<br>\n",
        "\n",
        "```\n",
        "\tweight\tvalue\n",
        "1\t  7\t    42\n",
        "2\t  3\t    12\n",
        "3\t  4\t    40\n",
        "4\t  5\t    25\n",
        "```\n",
        "ของชิ้นที่ 3 และ 4 รวมกันจะได้น้ำหนัก 9 หน่วย ราคา 65 ซึ่งมากที่สุดที่สามารถเป็นไปได้ สำหรับกระเป๋าน้ำหนัก 10 หน่วย\n",
        "\n",
        "**Input Format:**<br>\n",
        "บรรทัดที่ 1: จำนวนเต็ม W แสดงน้ำหนักที่กระเป๋ารับได้\n",
        "บรรทัดที่ 2: จำนวนเต็ม n แสดงน้ำหนักที่กระเป๋ารับได้\n",
        "บรรทัดที่ 2N+1: จำนวนเต็ม w แสดงน้ำหนักของสิ่งของ\n",
        "บรรทัดที่ 2N+2: จำนวนเต็ม v แสดงมูลค่าของสิ่งของชิ้นที่ 2N+1\n",
        "\n",
        "**Output Format:**<br>\n",
        "มูลค่าสูงสุดที่สามารถเป็นไปได้\n",
        "\n",
        "**ตัวอย่าง**<br>\n",
        "Input:\n",
        "```\n",
        "10\n",
        "4\n",
        "7\n",
        "42\n",
        "3\n",
        "12\n",
        "4\n",
        "40\n",
        "5\n",
        "25\n",
        "```\n",
        "\n",
        "Output:\n",
        "\n",
        "\n",
        "```\n",
        "65\n",
        "```\n",
        "**คำอธิบาย**<br>\n",
        "น้ำหนักที่กระเป๋ารับได้คือ 10 หน่วย มีสิ่งของให้เลือกจำนวน 4 ชิ้น<br>\n",
        "สามารถจัดสิ่งของเพื่อให้ได้มูลค่าสูงสุดคือ นำสิ่งของชิ้นที่ 3 และ 4 มาใส่กระเป๋า จะได้น้ำหนัก 9 (4+5) หน่วย มูลค่า 65 (40+25)\n",
        "\n"
      ],
      "metadata": {
        "id": "5F5Vc6gYgSwX"
      }
    },
    {
      "cell_type": "markdown",
      "source": [
        "Exhaustive Search (Brute Force)"
      ],
      "metadata": {
        "id": "xyKUyiO7gWRr"
      }
    },
    {
      "cell_type": "code",
      "source": [
        "weiht = int(input())\n",
        "n = int(intput())\n",
        "w = []\n",
        "value = []\n",
        "for i in range(n):\n",
        "  w.append(int{input()})\n",
        "  value.append(int(input()))\n",
        "\n",
        "max_value = 0\n"
      ],
      "metadata": {
        "id": "1q7XBObrgUKL"
      },
      "execution_count": null,
      "outputs": []
    },
    {
      "cell_type": "markdown",
      "source": [
        "Greedy"
      ],
      "metadata": {
        "id": "dMrNskYTgYGM"
      }
    },
    {
      "cell_type": "code",
      "source": [],
      "metadata": {
        "id": "fse05JvegYT_"
      },
      "execution_count": null,
      "outputs": []
    },
    {
      "cell_type": "markdown",
      "source": [],
      "metadata": {
        "id": "Mp214e9sgaPX"
      }
    }
  ]
}